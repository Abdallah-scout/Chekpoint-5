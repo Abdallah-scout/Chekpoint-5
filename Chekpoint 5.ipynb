{
 "cells": [
  {
   "cell_type": "markdown",
   "metadata": {},
   "source": [
    "Q1:"
   ]
  },
  {
   "cell_type": "code",
   "execution_count": 1,
   "metadata": {},
   "outputs": [
    {
     "name": "stdout",
     "output_type": "stream",
     "text": [
      "Original array: array('i', [1, 3, 5, 3, 7, 1, 9, 3])\n",
      "Convert the said array to an ordinary list with the same items:\n",
      "[1, 3, 5, 3, 7, 1, 9, 3]\n"
     ]
    }
   ],
   "source": [
    "from array import *\n",
    "array_num = array('i', [1, 3, 5, 3, 7, 1, 9, 3])\n",
    "print(\"Original array: \"+str(array_num))\n",
    "num_list = array_num.tolist()\n",
    "print(\"Convert the said array to an ordinary list with the same items:\")\n",
    "print(num_list)"
   ]
  },
  {
   "cell_type": "markdown",
   "metadata": {},
   "source": [
    "Q2:"
   ]
  },
  {
   "cell_type": "code",
   "execution_count": 3,
   "metadata": {},
   "outputs": [
    {
     "name": "stdout",
     "output_type": "stream",
     "text": [
      "Original matrix:\n",
      "[[0 1 2]\n",
      " [3 4 5]]\n",
      "Condition number of the said matrix:\n",
      "4\n"
     ]
    }
   ],
   "source": [
    "import numpy as np\n",
    "m = np.arange(6).reshape(2,3)\n",
    "print(\"Original matrix:\")\n",
    "print(m)\n",
    "result =  np.trace(m)\n",
    "print(\"Condition number of the said matrix:\")\n",
    "print(result)"
   ]
  },
  {
   "cell_type": "markdown",
   "metadata": {},
   "source": [
    "Q5:"
   ]
  },
  {
   "cell_type": "code",
   "execution_count": 4,
   "metadata": {},
   "outputs": [
    {
     "name": "stdout",
     "output_type": "stream",
     "text": [
      "Original matrix:\n",
      "\n",
      "[[0.72218252 0.51588539 0.10101656 0.52808267 0.31516222 0.60243611\n",
      "  0.09542952 0.11847125 0.80872221 0.86475589]\n",
      " [0.29553366 0.01052575 0.4803015  0.64173865 0.29694528 0.85565064\n",
      "  0.57346381 0.15282386 0.47021204 0.0241595 ]\n",
      " [0.57944588 0.59424815 0.81587289 0.37502944 0.86667573 0.41661836\n",
      "  0.7952816  0.28761107 0.20650634 0.67662068]\n",
      " [0.29523394 0.55705173 0.92390551 0.38671576 0.16406004 0.87098748\n",
      "  0.74003039 0.36898928 0.04940498 0.84058693]\n",
      " [0.95439026 0.87814223 0.29656207 0.62898761 0.32490204 0.73427581\n",
      "  0.2569515  0.67529878 0.50984338 0.48074194]]\n",
      "\n",
      "Subtract the mean of each row of the said matrix:\n",
      "\n",
      "[[ 0.25496809  0.04867096 -0.36619788  0.06086823 -0.15205221  0.13522168\n",
      "  -0.37178491 -0.34874318  0.34150778  0.39754145]\n",
      " [-0.0846018  -0.36960972  0.10016603  0.26160318 -0.08319019  0.47551517\n",
      "   0.19332834 -0.22731161  0.09007657 -0.35597597]\n",
      " [ 0.01805486  0.03285713  0.25448188 -0.18636158  0.30528471 -0.14477265\n",
      "   0.23389059 -0.27377994 -0.35488467  0.11522967]\n",
      " [-0.22446266  0.03735513  0.4042089  -0.13298085 -0.35563656  0.35129088\n",
      "   0.22033378 -0.15070732 -0.47029162  0.32089033]\n",
      " [ 0.3803807   0.30413267 -0.2774475   0.05497805 -0.24910752  0.16026625\n",
      "  -0.31705807  0.10128922 -0.06416618 -0.09326762]]\n"
     ]
    }
   ],
   "source": [
    "import numpy as np\n",
    "print(\"Original matrix:\\n\")\n",
    "X = np.random.rand(5, 10)\n",
    "print(X)\n",
    "print(\"\\nSubtract the mean of each row of the said matrix:\\n\")\n",
    "Y = X - X.mean(axis=1, keepdims=True)\n",
    "print(Y)"
   ]
  },
  {
   "cell_type": "markdown",
   "metadata": {},
   "source": [
    "Q3:"
   ]
  },
  {
   "cell_type": "code",
   "execution_count": 6,
   "metadata": {},
   "outputs": [
    {
     "name": "stdout",
     "output_type": "stream",
     "text": [
      "[41 43]\n"
     ]
    }
   ],
   "source": [
    "import numpy as np\n",
    "arr = np.array([41,42,43,44])\n",
    "x = [True,False,True,False]\n",
    "newarr = arr[x]\n",
    "print(newarr)"
   ]
  },
  {
   "cell_type": "markdown",
   "metadata": {},
   "source": [
    "Q4:"
   ]
  },
  {
   "cell_type": "code",
   "execution_count": 7,
   "metadata": {},
   "outputs": [
    {
     "name": "stdout",
     "output_type": "stream",
     "text": [
      "[ 5  9 11 13 11]\n"
     ]
    }
   ],
   "source": [
    "import numpy as np\n",
    "A = np.array([1,3,4,8,9])\n",
    "B = np.array ([4,6,7,5,2])\n",
    "C = A+B\n",
    "print (C)"
   ]
  },
  {
   "cell_type": "code",
   "execution_count": null,
   "metadata": {},
   "outputs": [],
   "source": []
  }
 ],
 "metadata": {
  "kernelspec": {
   "display_name": "Python 3",
   "language": "python",
   "name": "python3"
  },
  "language_info": {
   "codemirror_mode": {
    "name": "ipython",
    "version": 3
   },
   "file_extension": ".py",
   "mimetype": "text/x-python",
   "name": "python",
   "nbconvert_exporter": "python",
   "pygments_lexer": "ipython3",
   "version": "3.8.3"
  }
 },
 "nbformat": 4,
 "nbformat_minor": 4
}
